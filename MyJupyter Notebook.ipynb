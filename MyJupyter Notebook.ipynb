{
    "cells": [
        {
            "metadata": {
                "collapsed": true
            },
            "cell_type": "markdown",
            "source": "# My Jupyter Notebook on IBM Watson Studio"
        },
        {
            "metadata": {},
            "cell_type": "markdown",
            "source": "**Oliver Grainge**  \n2nd Year electrical & electronic student at Southampton uni"
        },
        {
            "metadata": {},
            "cell_type": "markdown",
            "source": "*I want to learn about data science so I can help with the transition to renewable energy*"
        },
        {
            "metadata": {},
            "cell_type": "markdown",
            "source": "### See below a print statement run by the python interpreter"
        },
        {
            "metadata": {},
            "cell_type": "code",
            "source": "print(\"I like this notebook\")",
            "execution_count": 4,
            "outputs": [
                {
                    "output_type": "stream",
                    "text": "I like this notebook\n",
                    "name": "stdout"
                }
            ]
        },
        {
            "metadata": {},
            "cell_type": "markdown",
            "source": "<ul>  \n    <li> bullet 1 </li>\n    <li> bullet 2 </li>\n</ul>\n<ol type=\"1\">\n    <li> numbered list </li>\n    <li> numbered list 2 </li>\n</ol>\n<a href = \"https://www.google.com/?client=safari\"> Link to google.com </a>\n\n<table style=\"width:100%\">\n  <tr>\n    <th>Firstname</th>\n    <th>Lastname</th> \n    <th>Age</th>\n  </tr>\n  <tr>\n    <td>Jill</td>\n    <td>Smith</td> \n    <td>50</td>\n  </tr>\n  <tr>\n    <td>Eve</td>\n    <td>Jackson</td> \n    <td>94</td>\n  </tr>\n</table>"
        },
        {
            "metadata": {},
            "cell_type": "code",
            "source": "",
            "execution_count": null,
            "outputs": []
        }
    ],
    "metadata": {
        "kernelspec": {
            "name": "python3",
            "display_name": "Python 3.6",
            "language": "python"
        },
        "language_info": {
            "name": "python",
            "version": "3.6.9",
            "mimetype": "text/x-python",
            "codemirror_mode": {
                "name": "ipython",
                "version": 3
            },
            "pygments_lexer": "ipython3",
            "nbconvert_exporter": "python",
            "file_extension": ".py"
        }
    },
    "nbformat": 4,
    "nbformat_minor": 1
}