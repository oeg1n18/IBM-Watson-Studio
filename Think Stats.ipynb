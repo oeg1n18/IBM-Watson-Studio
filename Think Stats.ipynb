{
    "cells": [
        {
            "metadata": {
                "collapsed": true
            },
            "cell_type": "markdown",
            "source": " # Statistical thinking for programmers\n \n ##  Chapter 1 \n  \n  \n ###  Do babies arrieve late?\n  There is a large amount of anecdotal evidence available if you complete a simple google search however this evidence usually fails for the following reasons.  \n    \n  **Small number of observations:**  Not always possible to find large datasets which is necessary to be accurate.  \n  **Selection Bias:**  people who join an online discussion where you may collect the data might be interessted becuase their babies where late.     \n  **Confirmation bias:** People who believe the claim might be more likely to contribute examples that confirm it.       \n  **Inaccuracy:**  Anecdotes are often personal stories, and often misremembers, incorrect ect.    \n  \n ### A Statistical approach\n   to address the limitations of anecdotes the following statistical tools should be used.     \n       \n   **Data collection:**. use reliable data. In this case a large national survey designed explicitly to generate inferences about U.S. population    \n   **Descriptive statistics:**  Genereate statistics that summarize the data concisely.   \n   **Exploratory data analysis:**  Look for patters, differences that address the questions we are interested in. Will also check for inconsistencies and identify limitations.  \n   **Hypothesis testing:** Evaluate whether a difference occured by chance.  \n   **Estimation:**  use data from the sample to estimate characteristics of the general population."
        },
        {
            "metadata": {},
            "cell_type": "markdown",
            "source": "### to find the data for this exercise go to   \n"
        },
        {
            "metadata": {},
            "cell_type": "markdown",
            "source": "  [U.S. population survey data](http://thinkstats.com/nsfg.html \"Title\")"
        },
        {
            "metadata": {},
            "cell_type": "markdown",
            "source": "each line of the repondent files (can be found by the link) contains information about one respondednt. this information is called a record.   \nThe variables that make up.a record are called fields. A collection of records is called a table. you can see in survey.py the different class  \ndefinitions for the objects.  "
        },
        {
            "metadata": {},
            "cell_type": "code",
            "source": "\"\"\"This file contains code for use with \"Think Stats\",\nby Allen B. Downey, available from greenteapress.com\n\nCopyright 2010 Allen B. Downey\nLicense: GNU GPLv3 http://www.gnu.org/licenses/gpl.html\n\"\"\"\n\nimport sys\nimport gzip\nimport os\n\nclass Record(object):\n    \"\"\"Represents a record.\"\"\"\n\nclass Respondent(Record):\n    \"\"\"Represents a respondent.\"\"\"\n\nclass Pregnancy(Record):\n    \"\"\"Represents a pregnancy.\"\"\"\n\nclass Table(object):\n    \"\"\"Represents a table as a list of objects\"\"\"\n\n    def __init__(self):\n        self.records = []\n\n    def __len__(self):\n        return len(self.records)\n\n    def ReadFile(self, data_dir, filename, fields, constructor, n=None):\n        \"\"\"Reads a compressed data file builds one object per record.\n\n        Args:\n            data_dir: string directory name\n            filename: string name of the file to read\n\n            fields: sequence of (name, start, end, case) tuples specifying\n            the fields to extract\n\n            constructor: what kind of object to create\n        \"\"\"\n        filename = os.path.join(data_dir, filename)\n\n        if filename.endswith('gz'):\n            fp = gzip.open(filename)\n        else:\n            fp = open(filename)\n\n        for i, line in enumerate(fp):\n            if i == n:\n                break\n            record = self.MakeRecord(line, fields, constructor)\n            self.AddRecord(record)\n        fp.close()\n\n    def MakeRecord(self, line, fields, constructor):\n        \"\"\"Scans a line and returns an object with the appropriate fields.\n\n        Args:\n            line: string line from a data file\n\n            fields: sequence of (name, start, end, cast) tuples specifying\n            the fields to extract\n\n            constructor: callable that makes an object for the record.\n\n        Returns:\n            Record with appropriate fields.\n        \"\"\"\n        obj = constructor()\n        for (field, start, end, cast) in fields:\n            try:\n                s = line[start-1:end]\n                val = cast(s)\n            except ValueError:\n                # If you are using Visual Studio, you might see an\n                # \"error\" at this point, but it is not really an error;\n                # I am just using try...except to handle not-available (NA)\n                # data.  You should be able to tell Visual Studio to\n                # ignore this non-error.\n                val = 'NA'\n            setattr(obj, field, val)\n        return obj\n\n    def AddRecord(self, record):\n        \"\"\"Adds a record to this table.\n\n        Args:\n            record: an object of one of the record types.\n        \"\"\"\n        self.records.append(record)\n\n    def ExtendRecords(self, records):\n        \"\"\"Adds records to this table.\n\n        Args:\n            records: a sequence of record object\n        \"\"\"\n        self.records.extend(records)\n\n    def Recode(self):\n        \"\"\"Child classes can override this to recode values.\"\"\"\n        pass\n\n\nclass Respondents(Table):\n    \"\"\"Represents the respondent table.\"\"\"\n\n    def ReadRecords(self, data_dir='.', n=None):\n        filename = self.GetFilename()\n        self.ReadFile(data_dir, filename, self.GetFields(), Respondent, n)\n        self.Recode()\n\n    def GetFilename(self):\n        return '2002FemResp.dat.gz'\n\n    def GetFields(self):\n        \"\"\"Returns a tuple specifying the fields to extract.\n\n        The elements of the tuple are field, start, end, case.\n\n                field is the name of the variable\n                start and end are the indices as specified in the NSFG docs\n                cast is a callable that converts the result to int, float, etc.\n        \"\"\"\n        return [\n            ('caseid', 1, 12, int),\n            ]\n\nclass Pregnancies(Table):\n    \"\"\"Contains survey data about a Pregnancy.\"\"\"\n\n    def ReadRecords(self, data_dir='.', n=None):\n        filename = self.GetFilename()\n        self.ReadFile(data_dir, filename, self.GetFields(), Pregnancy, n)\n        self.Recode()\n\n    def GetFilename(self):\n        return '2002FemPreg.dat.gz'\n\n    def GetFields(self):\n        \"\"\"Gets information about the fields to extract from the survey data.\n\n        Documentation of the fields for Cycle 6 is at\n        http://nsfg.icpsr.umich.edu/cocoon/WebDocs/NSFG/public/index.htm\n\n        Returns:\n            sequence of (name, start, end, type) tuples\n        \"\"\"\n        return [\n            ('caseid', 1, 12, int),\n            ('nbrnaliv', 22, 22, int),\n            ('babysex', 56, 56, int),\n            ('birthwgt_lb', 57, 58, int),\n            ('birthwgt_oz', 59, 60, int),\n            ('prglength', 275, 276, int),\n            ('outcome', 277, 277, int),\n            ('birthord', 278, 279, int),\n            ('agepreg', 284, 287, int),\n            ('finalwgt', 423, 440, float),\n            ]\n\n    def Recode(self):\n        for rec in self.records:\n\n            # divide mother's age by 100\n            try:\n                if rec.agepreg != 'NA':\n                    rec.agepreg /= 100.0\n            except AttributeError:\n                pass\n\n            # convert weight at birth from lbs/oz to total ounces\n            # note: there are some very low birthweights\n            # that are almost certainly errors, but for now I am not\n            # filtering\n            try:\n                if (rec.birthwgt_lb != 'NA' and rec.birthwgt_lb < 20 and\n                    rec.birthwgt_oz != 'NA' and rec.birthwgt_oz <= 16):\n                    rec.totalwgt_oz = rec.birthwgt_lb * 16 + rec.birthwgt_oz\n                else:\n                    rec.totalwgt_oz = 'NA'\n            except AttributeError:\n                pass\n\n\ndef main(name, data_dir='.'):\n    resp = Respondents()\n    resp.ReadRecords(data_dir)\n    print 'Number of respondents', len(resp.records)\n\n    preg = Pregnancies()\n    preg.ReadRecords(data_dir)\n    print 'Number of pregnancies', len(preg.records)\n\n\nif __name__ == '__main__':\n    main(*sys.argv)\n",
            "execution_count": 1,
            "outputs": [
                {
                    "output_type": "error",
                    "ename": "SyntaxError",
                    "evalue": "invalid syntax (<ipython-input-1-990cc8d6e4c8>, line 190)",
                    "traceback": [
                        "\u001b[0;36m  File \u001b[0;32m\"<ipython-input-1-990cc8d6e4c8>\"\u001b[0;36m, line \u001b[0;32m190\u001b[0m\n\u001b[0;31m    print 'Number of respondents', len(resp.records)\u001b[0m\n\u001b[0m                                ^\u001b[0m\n\u001b[0;31mSyntaxError\u001b[0m\u001b[0;31m:\u001b[0m invalid syntax\n"
                    ]
                }
            ]
        },
        {
            "metadata": {},
            "cell_type": "markdown",
            "source": ""
        },
        {
            "metadata": {},
            "cell_type": "code",
            "source": "",
            "execution_count": null,
            "outputs": []
        }
    ],
    "metadata": {
        "kernelspec": {
            "name": "python3",
            "display_name": "Python 3.6",
            "language": "python"
        },
        "language_info": {
            "name": "python",
            "version": "3.6.9",
            "mimetype": "text/x-python",
            "codemirror_mode": {
                "name": "ipython",
                "version": 3
            },
            "pygments_lexer": "ipython3",
            "nbconvert_exporter": "python",
            "file_extension": ".py"
        }
    },
    "nbformat": 4,
    "nbformat_minor": 1
}